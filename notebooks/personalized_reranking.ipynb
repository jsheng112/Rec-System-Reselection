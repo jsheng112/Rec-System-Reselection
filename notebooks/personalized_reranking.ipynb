{
  "nbformat": 4,
  "nbformat_minor": 0,
  "metadata": {
    "colab": {
      "name": "personalized_reranking.ipynb",
      "provenance": [],
      "collapsed_sections": []
    },
    "kernelspec": {
      "display_name": "Python 3",
      "name": "python3"
    }
  },
  "cells": [
    {
      "cell_type": "code",
      "metadata": {
        "id": "8gCFCFG21rZP"
      },
      "source": [
        "import pandas as pd\n",
        "import numpy as np\n",
        "import matplotlib.pyplot as plt\n",
        "import os\n",
        "\n",
        "import random\n",
        "random.seed(415)"
      ],
      "execution_count": null,
      "outputs": []
    },
    {
      "cell_type": "code",
      "metadata": {
        "id": "1_0sWA2-1uiN"
      },
      "source": [
        "# read in baseline results\n",
        "test_results = pd.read_csv('test_results.csv')\n",
        "test_results = pd.DataFrame(test_results, columns=['userId', 'movieId', 'actual', 'cf_predictions'])\n",
        "print(test_results.head())"
      ],
      "execution_count": null,
      "outputs": []
    },
    {
      "cell_type": "code",
      "metadata": {
        "id": "w4URPU7kD7HJ"
      },
      "source": [
        "# read in training data and testing data \n",
        "train_data = pd.read_csv('data_train_set.csv')\n",
        "test_data = pd.read_csv('data_test_set.csv')\n",
        "\n",
        "# combine training and testing data \n",
        "train_test_data = [train_data, test_data]\n",
        "ratings = pd.concat(train_test_data)\n",
        "ratings.reset_index(drop=True, inplace=True)"
      ],
      "execution_count": null,
      "outputs": []
    },
    {
      "cell_type": "code",
      "metadata": {
        "id": "Blxtflgqo8hv"
      },
      "source": [
        "# separate movies into short head and long tail\n",
        "df_movies_count_ratings = pd.DataFrame(ratings.groupby('movieId').size(), columns=['count']).reset_index()\n",
        "total_num = len(df_movies_count_ratings)\n",
        "short_head = int(0.2 * total_num)\n",
        "df_short_head = df_movies_count_ratings.nlargest(short_head, 'count')['movieId'].unique()\n",
        "df_long_tail = df_movies_count_ratings.nsmallest(total_num-short_head, 'count')['movieId'].unique()"
      ],
      "execution_count": null,
      "outputs": []
    },
    {
      "cell_type": "code",
      "metadata": {
        "id": "EHm5VL0sd0qL"
      },
      "source": [
        "# classify movies into short-head and long-tail\n",
        "def movie_cat(df_long_tail, df_short_head, movieId):\n",
        "  if (movieId in df_long_tail):\n",
        "    return \"long_tail\"\n",
        "  elif (movieId in df_short_head):\n",
        "    return \"short_head\"\n",
        "  else:\n",
        "    return \"other\"\n",
        "\n",
        "# create a dataframe containing category for each movie\n",
        "unique_movies = sorted(ratings.movieId.unique())\n",
        "categories = []\n",
        "for movieId in unique_movies:\n",
        "  categories.append(movie_cat(df_long_tail, df_short_head, movieId))\n",
        "\n",
        "movie_category_data = {'category': categories}\n",
        "df_movie_category = pd.DataFrame(data=movie_category_data, index = unique_movies)"
      ],
      "execution_count": null,
      "outputs": []
    },
    {
      "cell_type": "code",
      "metadata": {
        "id": "3l_4kvAETcMY"
      },
      "source": [
        "# calculate user short-head preference and long-tail preference\n",
        "def preference(df_movie_cat, ratings, user_id):\n",
        "  user_ratings = ratings.loc[(ratings['userId'] == user_id) & (ratings['rating'] >=3)]['movieId'].unique();\n",
        "  total = len(user_ratings)\n",
        "  num_long_tail = [x for x in user_ratings if df_movie_cat.loc[x].category == 'long_tail']\n",
        "  num_short_head = [x for x in user_ratings if df_movie_cat.loc[x].category == 'short_head']\n",
        "  if (total > 0):\n",
        "    a = len(num_short_head)/total\n",
        "    b = len(num_long_tail)/total\n",
        "    return a, b\n",
        "  else:\n",
        "    return 0, 0\n",
        "\n",
        "# calculate user short-head preference and long-tail preference for each user\n",
        "user_id = test_results.userId.unique();\n",
        "long_tail_prefs = [];\n",
        "short_head_prefs = [];\n",
        "for u in user_id:\n",
        "  short_head, long_tail = preference(df_movie_category, ratings, u)\n",
        "  short_head_prefs.append(short_head)\n",
        "  long_tail_prefs.append(long_tail)\n",
        "\n",
        "# save user preference into data frame\n",
        "df_user_prefs = {'userId': user_id, 'short_head_prefs': short_head_prefs, 'long_tail_prefs': long_tail_prefs}\n",
        "df_user_prefs = pd.DataFrame(data=df_user_prefs)\n",
        "df_user_prefs.to_csv(\"user_preferences.csv\")"
      ],
      "execution_count": null,
      "outputs": []
    },
    {
      "cell_type": "code",
      "metadata": {
        "id": "fUz_4EcjEV6p"
      },
      "source": [
        "# get user predictions according to predicted ratings sorted in descending order\n",
        "def get_users_predictions(user_id, formatted_results):\n",
        "    recommended = pd.DataFrame(formatted_results.loc[user_id])\n",
        "    recommended.columns = [\"predicted_rating\"]\n",
        "    recommended = recommended.sort_values('predicted_rating', ascending=False)    \n",
        "    return recommended.index.tolist()"
      ],
      "execution_count": null,
      "outputs": []
    },
    {
      "cell_type": "code",
      "metadata": {
        "id": "4qYsmdDHEbZg"
      },
      "source": [
        "# collect the movies for a user into a list\n",
        "def get_movie_list(user_id, test_results):\n",
        "  return test_results.loc[test_results['userId'] == user_id].sort_values('actual', ascending=False)['movieId'].unique().tolist()\n",
        "\n",
        "\n",
        "# format test data\n",
        "user_id = test_results.userId.unique().tolist()\n",
        "new_df = {}\n",
        "new_df['userId'] = user_id\n",
        "new_list = []\n",
        "for user in user_id:\n",
        "  movies_temp = get_movie_list(user, test_results)\n",
        "  new_list.append(movies_temp)\n",
        "new_df['actual'] = new_list\n",
        "test_results_with_recs = pd.DataFrame(data=new_df)\n",
        "\n",
        "# get the predicted recommendations for all users\n",
        "formatted_results = test_results.pivot_table(index='userId', columns='movieId', values='cf_predictions').fillna(0)\n",
        "cf_recommendations = []\n",
        "for user in user_id:\n",
        "    cf_predictions = get_users_predictions(user, formatted_results)\n",
        "    cf_recommendations.append(cf_predictions)\n",
        "        \n",
        "test_results_with_recs['cf_predictions'] = cf_recommendations\n",
        "test_results_with_recs.head()"
      ],
      "execution_count": null,
      "outputs": []
    },
    {
      "cell_type": "code",
      "metadata": {
        "id": "rgz8GUHkEhGs"
      },
      "source": [
        "# get the top n user predictions\n",
        "def get_users_predictions_n(user_id, n, cf_recommendations_top_10):\n",
        "  top_n_recommendations = cf_recommendations_top_10.loc[cf_recommendations_top_10['userId'] == user_id]['cf_predictions'].item()\n",
        "  top_n_recommendations = top_n_recommendations[0:n]\n",
        "  return top_n_recommendations\n",
        "\n",
        "# For each user, create prediction recommendation list based on top 10 ranking items\n",
        "cf_recommendations_top_10 = []\n",
        "for user in user_id:\n",
        "    cf_predictions = get_users_predictions_n(user, 10, test_results_with_recs)\n",
        "    cf_recommendations_top_10.append(cf_predictions)"
      ],
      "execution_count": null,
      "outputs": []
    },
    {
      "cell_type": "code",
      "metadata": {
        "id": "XUU6ORk0EjbI"
      },
      "source": [
        "test_results_with_recs['cf_predictions_10'] = cf_recommendations_top_10\n",
        "test_results_with_recs.head()"
      ],
      "execution_count": null,
      "outputs": []
    },
    {
      "cell_type": "code",
      "metadata": {
        "id": "4WS5vsAULbrC"
      },
      "source": [
        "# perform Personalized Reranking calculation\n",
        "def rerank(df_user_prefs, cf_model, mid, uid, df_movie_cat, current_list, user_preferences):\n",
        "  # For each user, construct a candidate set and long-tail preference:\n",
        "  # Loop through each row to construct a reranked recommendation for each user:\n",
        "  recsize = 10\n",
        "  longtail_weight = 0.8\n",
        "  base_score = cf_model.loc[uid][mid]\n",
        "  category = df_movie_cat.loc[mid]['category'];\n",
        "  if category == 'long_tail':\n",
        "    category_pref = user_preferences['long_tail_prefs'].item();\n",
        "    category_sum = 0\n",
        "    for x in current_list:\n",
        "      if df_movie_cat.loc[x].category == 'long_tail':\n",
        "        category_sum +=1;\n",
        "    if len(current_list) == 0:\n",
        "      category_ratio = 0\n",
        "    else:\n",
        "      category_ratio = category_sum/len(current_list)\n",
        "  elif category == 'short_head':\n",
        "    category_pref = user_preferences['short_head_prefs'].item();\n",
        "    category_sum = 0\n",
        "    for x in current_list:\n",
        "      if df_movie_cat.loc[x].category == 'short_head':\n",
        "        category_sum +=1;\n",
        "    if len(current_list) == 0:\n",
        "      category_ratio = 0\n",
        "    else:\n",
        "      category_ratio = category_sum/len(current_list)\n",
        "  else:\n",
        "    return base_score\n",
        "  weighted_base_score = (1- longtail_weight) * base_score\n",
        "  weighted_category_booster = longtail_weight * category_pref * (1-category_ratio) ** recsize\n",
        "  new_score = weighted_base_score + weighted_category_booster\n",
        "  return new_score\n",
        "\n",
        "\n",
        "# for each user get top 100 movies and perform reranking on those top 100 movies\n",
        "def reranking_list(df_user_prefs, test_results_with_recs, uid, df_movie_category, formatted_results):\n",
        "  user_preferences = df_user_prefs.loc[df_user_prefs['userId'] == uid];\n",
        "  starting_recs = get_users_predictions_n(uid, 100, test_results_with_recs)\n",
        "  current_list = []\n",
        "  for i in range(10):\n",
        "    largest = rerank(df_user_prefs, formatted_results, starting_recs[0], uid, df_movie_category, current_list, user_preferences);\n",
        "    largest_movie = starting_recs[0];\n",
        "    for mid in starting_recs:\n",
        "      score = rerank(df_user_prefs, formatted_results, mid, uid, df_movie_category, current_list, user_preferences);\n",
        "      if (score > largest):\n",
        "        largest_movie = mid\n",
        "        largest = score\n",
        "    current_list.append(largest_movie)\n",
        "    starting_recs.remove(largest_movie)\n",
        "  return current_list\n",
        "\n",
        "# For each user, create a list of recommendations according to Personalized Reranking\n",
        "personalized_reranking_recs = []\n",
        "count = 0\n",
        "for u in user_id:\n",
        "  new_recs = reranking_list(df_user_prefs, test_results_with_recs, u, df_movie_category, formatted_results)\n",
        "  personalized_reranking_recs.append(new_recs)\n",
        "  count = count + 1"
      ],
      "execution_count": null,
      "outputs": []
    },
    {
      "cell_type": "code",
      "metadata": {
        "id": "KVYpPasXHw32"
      },
      "source": [
        "test_results_with_recs['personalized_reranking_predictions'] = personalized_reranking_recs\n",
        "test_results_with_recs.head()"
      ],
      "execution_count": null,
      "outputs": []
    },
    {
      "cell_type": "code",
      "metadata": {
        "id": "5fyS0lasDjjn"
      },
      "source": [
        "# create a data frame to hold Personalized Reranking results\n",
        "personalized_reranking_results = {\"userId\": user_id, 'personalized_reranking': personalized_reranking_recs}\n",
        "df_personalized_reranking = pd.DataFrame(data = personalized_reranking_results)\n",
        "\n",
        "# save Personalized Reranking results and all results\n",
        "df_personalized_reranking.to_csv(\"personalized_reranking_results.csv\")\n",
        "test_results_with_recs.to_csv(\"test_results_with_personalized_reranking_results_added.csv\")"
      ],
      "execution_count": null,
      "outputs": []
    }
  ]
}