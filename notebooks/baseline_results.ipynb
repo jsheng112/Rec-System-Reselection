{
  "nbformat": 4,
  "nbformat_minor": 0,
  "metadata": {
    "colab": {
      "name": "baseline_results.ipynb",
      "provenance": [],
      "collapsed_sections": []
    },
    "kernelspec": {
      "name": "python3",
      "display_name": "Python 3"
    }
  },
  "cells": [
    {
      "cell_type": "code",
      "metadata": {
        "id": "8gCFCFG21rZP"
      },
      "source": [
        "!pip install surprise\n",
        "import pandas as pd\n",
        "import numpy as np\n",
        "import matplotlib.pyplot as plt\n",
        "from surprise import Reader, SVD, Dataset, accuracy\n",
        "import os\n",
        "from sklearn.model_selection import train_test_split\n",
        "from surprise.model_selection import GridSearchCV\n",
        "\n",
        "import random\n",
        "random.seed(415)"
      ],
      "execution_count": null,
      "outputs": []
    },
    {
      "cell_type": "code",
      "metadata": {
        "id": "1_0sWA2-1uiN"
      },
      "source": [
        "original_ratings = pd.read_csv('ratings.csv')\n",
        "original_ratings.reset_index(drop=True, inplace=True)"
      ],
      "execution_count": null,
      "outputs": []
    },
    {
      "cell_type": "code",
      "metadata": {
        "id": "x0e8ZzOb1w9S"
      },
      "source": [
        "# only include movies with at least n ratings\n",
        "n = 20\n",
        "movies = original_ratings.movieId.value_counts()\n",
        "movies = movies[movies>=n].index.tolist()\n",
        "ratings = original_ratings.query('movieId in @movies')\n",
        "\n",
        "# only include users with at least n ratings\n",
        "users = ratings.userId.value_counts()\n",
        "users = users[users>=n].index.tolist()\n",
        "\n",
        "# take random sample of 10% of users to use as dataset\n",
        "users = np.random.choice(users, size= (int)(len(users) * 0.1))\n",
        "ratings = ratings.loc[ratings['userId'].isin(users)]\n",
        "print(ratings.shape)"
      ],
      "execution_count": null,
      "outputs": []
    },
    {
      "cell_type": "code",
      "metadata": {
        "id": "oPI5rGpA17_w"
      },
      "source": [
        "# split data into training testing sets\n",
        "train_data, test_data = train_test_split(ratings, test_size = 0.5)\n",
        "print(\"Training size:\", train_data.shape)\n",
        "print(\"Testing size:\", test_data.shape)\n",
        "\n",
        "# read training, testing sets into data frames\n",
        "reader = Reader(rating_scale = (1, 5))\n",
        "data_train_raw = Dataset.load_from_df(train_data[['userId', 'movieId', 'rating']], reader)\n",
        "data_test_raw = Dataset.load_from_df(test_data[['userId', 'movieId', 'rating']], reader)\n",
        "\n",
        "# create both training and testing data using \"train set\" format\n",
        "data_train = data_train_raw.build_full_trainset()\n",
        "data_test = data_test_raw.build_full_trainset()\n",
        "\n",
        "# create both training and testing data using \"test set\" format\n",
        "data_trainset = data_train.build_testset()\n",
        "data_testset = data_test.build_testset()\n",
        "\n",
        "train_data.to_csv(\"data_train_set.csv\")\n",
        "test_data.to_csv(\"data_test_set.csv\")"
      ],
      "execution_count": null,
      "outputs": []
    },
    {
      "cell_type": "code",
      "metadata": {
        "id": "ARHQjezVDO-2"
      },
      "source": [
        "# Create SVD\n",
        "algo = SVD(n_factors = 50, n_epochs = 20, lr_all = 0.005, reg_all = 0.02)\n",
        "\n",
        "# Create NMF \n",
        "# algo = NMF(n_factors = 15, n_epochs = 50)\n",
        "\n",
        "# Train the algorithm on the trainset\n",
        "algo.fit(data_train)"
      ],
      "execution_count": null,
      "outputs": []
    },
    {
      "cell_type": "code",
      "metadata": {
        "id": "a9Pw64nks68m"
      },
      "source": [
        "# make predictions on the testset\n",
        "test_results = algo.test(data_testset)\n",
        "print(accuracy.rmse(test_results))\n",
        "test_results = pd.DataFrame(test_results)\n",
        "test_results.drop(\"details\", inplace=True, axis=1)\n",
        "test_results.columns = ['userId', 'movieId', 'actual', 'cf_predictions']\n",
        "test_results.head()"
      ],
      "execution_count": null,
      "outputs": []
    },
    {
      "cell_type": "code",
      "metadata": {
        "id": "OlpMoIh1BhhF"
      },
      "source": [
        "test_results.to_csv('test_results.csv') "
      ],
      "execution_count": null,
      "outputs": []
    }
  ]
}